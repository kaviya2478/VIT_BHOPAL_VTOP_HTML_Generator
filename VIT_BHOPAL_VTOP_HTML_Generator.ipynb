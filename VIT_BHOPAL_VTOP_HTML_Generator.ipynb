{
  "nbformat": 4,
  "nbformat_minor": 0,
  "metadata": {
    "colab": {
      "provenance": [],
      "authorship_tag": "ABX9TyOWdCejxXAwzTrnqjPuAGWi",
      "include_colab_link": true
    },
    "kernelspec": {
      "name": "python3",
      "display_name": "Python 3"
    },
    "language_info": {
      "name": "python"
    }
  },
  "cells": [
    {
      "cell_type": "markdown",
      "metadata": {
        "id": "view-in-github",
        "colab_type": "text"
      },
      "source": [
        "<a href=\"https://colab.research.google.com/github/kaviya2478/VIT_BHOPAL_VTOP_HTML_Generator/blob/main/VIT_BHOPAL_VTOP_HTML_Generator.ipynb\" target=\"_parent\"><img src=\"https://colab.research.google.com/assets/colab-badge.svg\" alt=\"Open In Colab\"/></a>"
      ]
    },
    {
      "cell_type": "code",
      "execution_count": 20,
      "metadata": {
        "id": "-UqqdfCvRM6K"
      },
      "outputs": [],
      "source": [
        "import urllib"
      ]
    },
    {
      "cell_type": "code",
      "source": [
        "dir(urllib)"
      ],
      "metadata": {
        "colab": {
          "base_uri": "https://localhost:8080/"
        },
        "id": "XdfPP7yNU6Ls",
        "outputId": "b9fa0108-9546-4735-9c25-28c9e043e88b"
      },
      "execution_count": 21,
      "outputs": [
        {
          "output_type": "execute_result",
          "data": {
            "text/plain": [
              "['__builtins__',\n",
              " '__cached__',\n",
              " '__doc__',\n",
              " '__file__',\n",
              " '__loader__',\n",
              " '__name__',\n",
              " '__package__',\n",
              " '__path__',\n",
              " '__spec__',\n",
              " 'error',\n",
              " 'parse',\n",
              " 'request',\n",
              " 'response']"
            ]
          },
          "metadata": {},
          "execution_count": 21
        }
      ]
    },
    {
      "cell_type": "code",
      "source": [
        "from urllib import request\n",
        "dir(request)"
      ],
      "metadata": {
        "colab": {
          "base_uri": "https://localhost:8080/"
        },
        "id": "NJFjhx_AU_Dl",
        "outputId": "ddd900b9-b247-4398-d103-9fbe0ceb428a"
      },
      "execution_count": 22,
      "outputs": [
        {
          "output_type": "execute_result",
          "data": {
            "text/plain": [
              "['AbstractBasicAuthHandler',\n",
              " 'AbstractDigestAuthHandler',\n",
              " 'AbstractHTTPHandler',\n",
              " 'BaseHandler',\n",
              " 'CacheFTPHandler',\n",
              " 'ContentTooShortError',\n",
              " 'DataHandler',\n",
              " 'FTPHandler',\n",
              " 'FancyURLopener',\n",
              " 'FileHandler',\n",
              " 'HTTPBasicAuthHandler',\n",
              " 'HTTPCookieProcessor',\n",
              " 'HTTPDefaultErrorHandler',\n",
              " 'HTTPDigestAuthHandler',\n",
              " 'HTTPError',\n",
              " 'HTTPErrorProcessor',\n",
              " 'HTTPHandler',\n",
              " 'HTTPPasswordMgr',\n",
              " 'HTTPPasswordMgrWithDefaultRealm',\n",
              " 'HTTPPasswordMgrWithPriorAuth',\n",
              " 'HTTPRedirectHandler',\n",
              " 'HTTPSHandler',\n",
              " 'MAXFTPCACHE',\n",
              " 'OpenerDirector',\n",
              " 'ProxyBasicAuthHandler',\n",
              " 'ProxyDigestAuthHandler',\n",
              " 'ProxyHandler',\n",
              " 'Request',\n",
              " 'URLError',\n",
              " 'URLopener',\n",
              " 'UnknownHandler',\n",
              " '__all__',\n",
              " '__builtins__',\n",
              " '__cached__',\n",
              " '__doc__',\n",
              " '__file__',\n",
              " '__loader__',\n",
              " '__name__',\n",
              " '__package__',\n",
              " '__spec__',\n",
              " '__version__',\n",
              " '_cut_port_re',\n",
              " '_ftperrors',\n",
              " '_have_ssl',\n",
              " '_localhost',\n",
              " '_noheaders',\n",
              " '_opener',\n",
              " '_parse_proxy',\n",
              " '_proxy_bypass_macosx_sysconf',\n",
              " '_randombytes',\n",
              " '_safe_gethostbyname',\n",
              " '_splitattr',\n",
              " '_splithost',\n",
              " '_splitpasswd',\n",
              " '_splitport',\n",
              " '_splitquery',\n",
              " '_splittag',\n",
              " '_splittype',\n",
              " '_splituser',\n",
              " '_splitvalue',\n",
              " '_thishost',\n",
              " '_to_bytes',\n",
              " '_url_tempfiles',\n",
              " 'addclosehook',\n",
              " 'addinfourl',\n",
              " 'base64',\n",
              " 'bisect',\n",
              " 'build_opener',\n",
              " 'contextlib',\n",
              " 'email',\n",
              " 'ftpcache',\n",
              " 'ftperrors',\n",
              " 'ftpwrapper',\n",
              " 'getproxies',\n",
              " 'getproxies_environment',\n",
              " 'hashlib',\n",
              " 'http',\n",
              " 'install_opener',\n",
              " 'io',\n",
              " 'localhost',\n",
              " 'noheaders',\n",
              " 'os',\n",
              " 'parse_http_list',\n",
              " 'parse_keqv_list',\n",
              " 'pathname2url',\n",
              " 'posixpath',\n",
              " 'proxy_bypass',\n",
              " 'proxy_bypass_environment',\n",
              " 'quote',\n",
              " 're',\n",
              " 'request_host',\n",
              " 'socket',\n",
              " 'ssl',\n",
              " 'string',\n",
              " 'sys',\n",
              " 'tempfile',\n",
              " 'thishost',\n",
              " 'time',\n",
              " 'unquote',\n",
              " 'unquote_to_bytes',\n",
              " 'unwrap',\n",
              " 'url2pathname',\n",
              " 'urlcleanup',\n",
              " 'urljoin',\n",
              " 'urlopen',\n",
              " 'urlparse',\n",
              " 'urlretrieve',\n",
              " 'urlsplit',\n",
              " 'urlunparse',\n",
              " 'warnings']"
            ]
          },
          "metadata": {},
          "execution_count": 22
        }
      ]
    },
    {
      "cell_type": "code",
      "source": [
        "resp=request.urlopen('https://vtop.vitbhopal.ac.in/vtop/login')\n",
        "type(resp)"
      ],
      "metadata": {
        "colab": {
          "base_uri": "https://localhost:8080/",
          "height": 187
        },
        "id": "uH8XcdtBVGk3",
        "outputId": "694613a9-5c87-4a26-e089-037e9f771bec"
      },
      "execution_count": 23,
      "outputs": [
        {
          "output_type": "execute_result",
          "data": {
            "text/plain": [
              "http.client.HTTPResponse"
            ],
            "text/html": [
              "<div style=\"max-width:800px; border: 1px solid var(--colab-border-color);\"><style>\n",
              "      pre.function-repr-contents {\n",
              "        overflow-x: auto;\n",
              "        padding: 8px 12px;\n",
              "        max-height: 500px;\n",
              "      }\n",
              "\n",
              "      pre.function-repr-contents.function-repr-contents-collapsed {\n",
              "        cursor: pointer;\n",
              "        max-height: 100px;\n",
              "      }\n",
              "    </style>\n",
              "    <pre style=\"white-space: initial; background:\n",
              "         var(--colab-secondary-surface-color); padding: 8px 12px;\n",
              "         border-bottom: 1px solid var(--colab-border-color);\"><b>http.client.HTTPResponse</b><br/>def __init__(sock, debuglevel=0, method=None, url=None)</pre><pre class=\"function-repr-contents function-repr-contents-collapsed\" style=\"\"><a class=\"filepath\" style=\"display:none\" href=\"#\">/usr/lib/python3.10/http/client.py</a>Base class for buffered IO objects.\n",
              "\n",
              "The main difference with RawIOBase is that the read() method\n",
              "supports omitting the size argument, and does not have a default\n",
              "implementation that defers to readinto().\n",
              "\n",
              "In addition, read(), readinto() and write() may raise\n",
              "BlockingIOError if the underlying raw stream is in non-blocking\n",
              "mode and not ready; unlike their raw counterparts, they will never\n",
              "return None.\n",
              "\n",
              "A typical implementation should not inherit from a RawIOBase\n",
              "implementation, but wrap one.</pre>\n",
              "      <script>\n",
              "      if (google.colab.kernel.accessAllowed && google.colab.files && google.colab.files.view) {\n",
              "        for (const element of document.querySelectorAll('.filepath')) {\n",
              "          element.style.display = 'block'\n",
              "          element.onclick = (event) => {\n",
              "            event.preventDefault();\n",
              "            event.stopPropagation();\n",
              "            google.colab.files.view(element.textContent, 239);\n",
              "          };\n",
              "        }\n",
              "      }\n",
              "      for (const element of document.querySelectorAll('.function-repr-contents')) {\n",
              "        element.onclick = (event) => {\n",
              "          event.preventDefault();\n",
              "          event.stopPropagation();\n",
              "          element.classList.toggle('function-repr-contents-collapsed');\n",
              "        };\n",
              "      }\n",
              "      </script>\n",
              "      </div>"
            ]
          },
          "metadata": {},
          "execution_count": 23
        }
      ]
    },
    {
      "cell_type": "code",
      "source": [
        "dir(resp)"
      ],
      "metadata": {
        "colab": {
          "base_uri": "https://localhost:8080/"
        },
        "id": "ZDGqbrYGVZuH",
        "outputId": "5ec18130-55d5-4a3e-a08f-5b9aafb3e2db"
      },
      "execution_count": 24,
      "outputs": [
        {
          "output_type": "execute_result",
          "data": {
            "text/plain": [
              "['__abstractmethods__',\n",
              " '__class__',\n",
              " '__del__',\n",
              " '__delattr__',\n",
              " '__dict__',\n",
              " '__dir__',\n",
              " '__doc__',\n",
              " '__enter__',\n",
              " '__eq__',\n",
              " '__exit__',\n",
              " '__format__',\n",
              " '__ge__',\n",
              " '__getattribute__',\n",
              " '__gt__',\n",
              " '__hash__',\n",
              " '__init__',\n",
              " '__init_subclass__',\n",
              " '__iter__',\n",
              " '__le__',\n",
              " '__lt__',\n",
              " '__module__',\n",
              " '__ne__',\n",
              " '__new__',\n",
              " '__next__',\n",
              " '__reduce__',\n",
              " '__reduce_ex__',\n",
              " '__repr__',\n",
              " '__setattr__',\n",
              " '__sizeof__',\n",
              " '__str__',\n",
              " '__subclasshook__',\n",
              " '_abc_impl',\n",
              " '_checkClosed',\n",
              " '_checkReadable',\n",
              " '_checkSeekable',\n",
              " '_checkWritable',\n",
              " '_check_close',\n",
              " '_close_conn',\n",
              " '_get_chunk_left',\n",
              " '_method',\n",
              " '_peek_chunked',\n",
              " '_read1_chunked',\n",
              " '_read_and_discard_trailer',\n",
              " '_read_chunked',\n",
              " '_read_next_chunk_size',\n",
              " '_read_status',\n",
              " '_readinto_chunked',\n",
              " '_safe_read',\n",
              " '_safe_readinto',\n",
              " 'begin',\n",
              " 'chunk_left',\n",
              " 'chunked',\n",
              " 'close',\n",
              " 'closed',\n",
              " 'code',\n",
              " 'debuglevel',\n",
              " 'detach',\n",
              " 'fileno',\n",
              " 'flush',\n",
              " 'fp',\n",
              " 'getcode',\n",
              " 'getheader',\n",
              " 'getheaders',\n",
              " 'geturl',\n",
              " 'headers',\n",
              " 'info',\n",
              " 'isatty',\n",
              " 'isclosed',\n",
              " 'length',\n",
              " 'msg',\n",
              " 'peek',\n",
              " 'read',\n",
              " 'read1',\n",
              " 'readable',\n",
              " 'readinto',\n",
              " 'readinto1',\n",
              " 'readline',\n",
              " 'readlines',\n",
              " 'reason',\n",
              " 'seek',\n",
              " 'seekable',\n",
              " 'status',\n",
              " 'tell',\n",
              " 'truncate',\n",
              " 'url',\n",
              " 'version',\n",
              " 'will_close',\n",
              " 'writable',\n",
              " 'write',\n",
              " 'writelines']"
            ]
          },
          "metadata": {},
          "execution_count": 24
        }
      ]
    },
    {
      "cell_type": "code",
      "source": [
        "resp.code"
      ],
      "metadata": {
        "colab": {
          "base_uri": "https://localhost:8080/"
        },
        "id": "lKGHtV9BVc2t",
        "outputId": "313a1d7f-0962-4272-fc4b-57ee6ea95765"
      },
      "execution_count": 25,
      "outputs": [
        {
          "output_type": "execute_result",
          "data": {
            "text/plain": [
              "200"
            ]
          },
          "metadata": {},
          "execution_count": 25
        }
      ]
    },
    {
      "cell_type": "code",
      "source": [
        "resp.length"
      ],
      "metadata": {
        "colab": {
          "base_uri": "https://localhost:8080/"
        },
        "id": "oSON4R6pVgmH",
        "outputId": "e688dcb0-dd7c-4c4f-ce63-19f2fb2feeb1"
      },
      "execution_count": 26,
      "outputs": [
        {
          "output_type": "execute_result",
          "data": {
            "text/plain": [
              "17166"
            ]
          },
          "metadata": {},
          "execution_count": 26
        }
      ]
    },
    {
      "cell_type": "code",
      "source": [
        "resp.peek()"
      ],
      "metadata": {
        "colab": {
          "base_uri": "https://localhost:8080/"
        },
        "id": "W1AphiebVjbn",
        "outputId": "fba235c6-1636-46be-aecb-ebdae84a587f"
      },
      "execution_count": 27,
      "outputs": [
        {
          "output_type": "execute_result",
          "data": {
            "text/plain": [
              "b'<!DOCTYPE html>\\r\\n<!--[if lt IE 7]>      <html class=\"no-js lt-ie9 lt-ie8 lt-ie7\"> <![endif]-->\\r\\n<!--[if IE 7]>         <html class=\"no-js lt-ie9 lt-ie8\"> <![endif]-->\\r\\n<!--[if IE 8]>         <html class=\"no-js lt-ie9\"> <![endif]-->\\r\\n<!--[if gt IE 8]>      <html class=\"no-js\"> <![endif]-->\\r\\n<html>\\r\\n\\r\\n<head>\\r\\n\\r\\n    \\r\\n\\r\\n        <meta charset=\"utf-8\">\\r\\n        <base href=\"\" />\\r\\n        <meta http-equiv=\"X-UA-Compatible\" content=\"IE=edge\">\\r\\n        <title>VIT Bhopal - VTOP</title>\\r\\n        <meta name=\"description\" content=\"\">\\r\\n        <meta content=\"width=device-width, initial-scale=1, maximum-scale=1, user-scalable=no\" name=\"viewport\" />\\r\\n        <meta charset=\"ISO-8859-1\">\\r\\n        <meta name=\"description\" content=\"vtop\" />\\r\\n        <meta name=\"robots\" content=\"NOODP,NOYDIR\" />\\r\\n        <meta name=\"keywords\" content=\" vtop \" />\\r\\n        <meta name=\"robots\" content=\"index, follow\" />\\r\\n        <link rel=\"icon\" type=\"image/png\" href=\"assets/img/favicon.ico\">\\r\\n        <meta http-equiv=\"cache-control\" content=\"max-age=0\" />\\r\\n        <meta http-equiv=\"cache-control\" content=\"no-cache\" />\\r\\n        <meta http-equiv=\"expires\" content=\"0\" /> \\r\\n        <meta http-equiv=\"X-UA-Compatible\" content=\"IE-Edge\" />\\r\\n    \\r\\n\\r\\n    <link rel=\"stylesheet\" type=\"text/css\" href=\"/vtop/get/bs/css/1\">\\r\\n    <link rel=\"stylesheet\" type=\"text/css\" href=\"/vtop/get/ic/css/1\">\\r\\n    <link rel=\"stylesheet\" type=\"text/css\" href=\"/vtop/get/ic/css/2\">\\r\\n    <link rel=\"stylesheet\" type=\"text/css\" href=\"/vtop/assets/css/PreLogin.css\" />\\r\\n\\r\\n</head>\\r\\n\\r\\n<body class=\"WhiteBackground\">\\r\\n\\r\\n    \\r\\n        <nav class=\"navbar navbar-expand-lg bg-light headerBackgroundColor py-1 fixed-top shadow\" id=\"vtopOpenPageHeader\">\\r\\n            <div class=\"container-fluid justify-content-start\">\\r\\n                <a class=\"navbar-brand\" href=\"javacript:void(0);\">\\r\\n                    <img src=\"/vtop/assets/img/VITLogoEmblem.png\" class=\"img-responsive VITEmblem\" alt=\"\"/>\\r\\n                </a>\\r\\n                <!-- <a class=\"navbar-brand VITLogoStyle text-light\" href=\"javacript:void(0);\"><span\\r\\n                        class=\"h1 fw-bold\">VIT</span>\\r\\n                </a> -->\\r\\n                <!-- <span class=\"navbar-text text-light\">(Bhopal Campus)</span> -->\\r\\n\\r\\n           '"
            ]
          },
          "metadata": {},
          "execution_count": 27
        }
      ]
    },
    {
      "cell_type": "code",
      "source": [
        "data=resp.read()\n",
        "type(data)"
      ],
      "metadata": {
        "colab": {
          "base_uri": "https://localhost:8080/"
        },
        "id": "tu4BVLA9Vq8M",
        "outputId": "ea64945b-4abf-4580-8a81-0f5566cfb7c6"
      },
      "execution_count": 28,
      "outputs": [
        {
          "output_type": "execute_result",
          "data": {
            "text/plain": [
              "bytes"
            ]
          },
          "metadata": {},
          "execution_count": 28
        }
      ]
    },
    {
      "cell_type": "code",
      "source": [
        "len(data)"
      ],
      "metadata": {
        "colab": {
          "base_uri": "https://localhost:8080/"
        },
        "id": "efDLh9BeVxjN",
        "outputId": "c3441a1f-4a0a-462e-b214-f13e76a286cc"
      },
      "execution_count": 29,
      "outputs": [
        {
          "output_type": "execute_result",
          "data": {
            "text/plain": [
              "17166"
            ]
          },
          "metadata": {},
          "execution_count": 29
        }
      ]
    },
    {
      "cell_type": "code",
      "source": [
        "html=data.decode(\"UTF-8\")\n",
        "type(html)"
      ],
      "metadata": {
        "colab": {
          "base_uri": "https://localhost:8080/"
        },
        "id": "NFyUaH1_V2Ud",
        "outputId": "1a65570a-6125-444d-ba4d-92fcc5972228"
      },
      "execution_count": 30,
      "outputs": [
        {
          "output_type": "execute_result",
          "data": {
            "text/plain": [
              "str"
            ]
          },
          "metadata": {},
          "execution_count": 30
        }
      ]
    },
    {
      "cell_type": "code",
      "source": [
        "html"
      ],
      "metadata": {
        "colab": {
          "base_uri": "https://localhost:8080/",
          "height": 1000
        },
        "id": "GPj-1HdMWDXD",
        "outputId": "198e357a-e01f-49b2-cfd6-1f8e711e304a"
      },
      "execution_count": 31,
      "outputs": [
        {
          "output_type": "execute_result",
          "data": {
            "text/plain": [
              "'<!DOCTYPE html>\\r\\n<!--[if lt IE 7]>      <html class=\"no-js lt-ie9 lt-ie8 lt-ie7\"> <![endif]-->\\r\\n<!--[if IE 7]>         <html class=\"no-js lt-ie9 lt-ie8\"> <![endif]-->\\r\\n<!--[if IE 8]>         <html class=\"no-js lt-ie9\"> <![endif]-->\\r\\n<!--[if gt IE 8]>      <html class=\"no-js\"> <![endif]-->\\r\\n<html>\\r\\n\\r\\n<head>\\r\\n\\r\\n    \\r\\n\\r\\n        <meta charset=\"utf-8\">\\r\\n        <base href=\"\" />\\r\\n        <meta http-equiv=\"X-UA-Compatible\" content=\"IE=edge\">\\r\\n        <title>VIT Bhopal - VTOP</title>\\r\\n        <meta name=\"description\" content=\"\">\\r\\n        <meta content=\"width=device-width, initial-scale=1, maximum-scale=1, user-scalable=no\" name=\"viewport\" />\\r\\n        <meta charset=\"ISO-8859-1\">\\r\\n        <meta name=\"description\" content=\"vtop\" />\\r\\n        <meta name=\"robots\" content=\"NOODP,NOYDIR\" />\\r\\n        <meta name=\"keywords\" content=\" vtop \" />\\r\\n        <meta name=\"robots\" content=\"index, follow\" />\\r\\n        <link rel=\"icon\" type=\"image/png\" href=\"assets/img/favicon.ico\">\\r\\n        <meta http-equiv=\"cache-control\" content=\"max-age=0\" />\\r\\n        <meta http-equiv=\"cache-control\" content=\"no-cache\" />\\r\\n        <meta http-equiv=\"expires\" content=\"0\" /> \\r\\n        <meta http-equiv=\"X-UA-Compatible\" content=\"IE-Edge\" />\\r\\n    \\r\\n\\r\\n    <link rel=\"stylesheet\" type=\"text/css\" href=\"/vtop/get/bs/css/1\">\\r\\n    <link rel=\"stylesheet\" type=\"text/css\" href=\"/vtop/get/ic/css/1\">\\r\\n    <link rel=\"stylesheet\" type=\"text/css\" href=\"/vtop/get/ic/css/2\">\\r\\n    <link rel=\"stylesheet\" type=\"text/css\" href=\"/vtop/assets/css/PreLogin.css\" />\\r\\n\\r\\n</head>\\r\\n\\r\\n<body class=\"WhiteBackground\">\\r\\n\\r\\n    \\r\\n        <nav class=\"navbar navbar-expand-lg bg-light headerBackgroundColor py-1 fixed-top shadow\" id=\"vtopOpenPageHeader\">\\r\\n            <div class=\"container-fluid justify-content-start\">\\r\\n                <a class=\"navbar-brand\" href=\"javacript:void(0);\">\\r\\n                    <img src=\"/vtop/assets/img/VITLogoEmblem.png\" class=\"img-responsive VITEmblem\" alt=\"\"/>\\r\\n                </a>\\r\\n                <!-- <a class=\"navbar-brand VITLogoStyle text-light\" href=\"javacript:void(0);\"><span\\r\\n                        class=\"h1 fw-bold\">VIT</span>\\r\\n                </a> -->\\r\\n                <!-- <span class=\"navbar-text text-light\">(Bhopal Campus)</span> -->\\r\\n\\r\\n            </div>\\r\\n        </nav>\\r\\n\\r\\n    \\r\\n\\r\\n    <div class=\"container-fluid\">\\r\\n        <div class=\"row WhiteBackground pb-5\">\\r\\n            <div class=\"col-12\">\\r\\n                <div class=\"card card-body border-0 \">\\r\\n                    <div class=\"d-flex flex-column justify-content-center\">\\r\\n                        <strong class=\"h2 align-self-center primaryTextColor1 fw-bold text-center\"><b>VTOP</b>\\r\\n                            translates to \"<b>V</b>IT on\\r\\n                            <b>TOP</b>\"</strong>\\r\\n                        <div class=\"h6 d-none d-sm-block w-75 mt-2 align-self-center text-dark fw-bold text-center\">A\\r\\n                            digital initiative by\\r\\n                            the institute facilitating Faculty, Staff, Students, Parents and\\r\\n                            Alumni to access and process Academics, Research, Supporting services at one common\\r\\n                            platform.\\r\\n                        </div>\\r\\n                        <div class=\"h6 d-block d-sm-none w-100 px-1 mt-2 align-self-center text-dark  text-center\">A\\r\\n                            digital\\r\\n                            initiative by the institute\\r\\n                            facilitating Faculty, Staff, Students, Parents and\\r\\n                            Alumni to access and process Academics, Research, Supporting services at one common\\r\\n                            platform.\\r\\n                        </div>\\r\\n\\r\\n                    </div>\\r\\n                    <div class=\"row row-cols-2 row-cols-sm-4 py-3 g-2 g-sm-5\">\\r\\n                        \\r\\n\\r\\n        <div class=\"col\">\\r\\n            <div class=\"card card-body cardStudent  shadow\">\\r\\n                <form class=\"text-center\" id=\"stdForm\" action=\"/vtop/prelogin/setup\" method=\"post\"><input type=\"hidden\" name=\"_csrf\" value=\"45577741-42d7-4cb4-97a9-e7c91649f8e7\"/>\\r\\n                    <input type=\"hidden\" name=\"flag\" value=\"VTOP\" />\\r\\n                    <a href=\"javascript:void(0);\" class=\"text-decoration-none\"\\r\\n                        onclick=\"javascript:submitForm(\\'stdForm\\')\">\\r\\n                        <div class=\"d-flex jusitfy-content-start align-items-stretch\">\\r\\n                            <div class=\"w-50\">\\r\\n                                <img src=\"/vtop/assets/img/students.png\" class=\"img-responsive center imgSize\"\\r\\n                                    alt=\"...\" />\\r\\n                            </div>\\r\\n                            <div class=\"flex-grow-1\">\\r\\n                                <div class=\"fw-bold text-primary d-block d-lg-none h6\">Student</div>\\r\\n                                <div class=\"fw-bold text-primary d-none d-lg-block h5\">Student</div>\\r\\n                                <button type=\"submit\" class=\"btn btn-primary fw-bold\"><i\\r\\n                                        class=\"fa fa-sign-in fa-3\"></i></button>\\r\\n                            </div>\\r\\n                        </div>\\r\\n                    </a>\\r\\n                </form>\\r\\n            </div>\\r\\n        </div>\\r\\n        <div class=\"col\">\\r\\n            <div class=\"card card-body cardEmployee  shadow\">\\r\\n                <form class=\"text-center\" id=\"empForm\" action=\"/vtop/prelogin/setup\" method=\"post\"><input type=\"hidden\" name=\"_csrf\" value=\"45577741-42d7-4cb4-97a9-e7c91649f8e7\"/>\\r\\n                    <input type=\"hidden\" name=\"flag\" value=\"VTOP\" />\\r\\n                    <a href=\"javascript:void(0);\" class=\"text-decoration-none\"\\r\\n                        onclick=\"javascript:submitForm(\\'empForm\\')\">\\r\\n                        <div class=\"d-flex jusitfy-content-start align-items-stretch\">\\r\\n                            <div class=\"w-50\">\\r\\n                                <img src=\"/vtop/assets/img/employee.png\" class=\"img-responsive center imgSize\"\\r\\n                                    alt=\"...\" />\\r\\n                            </div>\\r\\n                            <div class=\"flex-grow-1\">\\r\\n                                <div class=\"fw-bold employeeTextColor d-block d-lg-none h6\">Employee</div>\\r\\n                                <div class=\"fw-bold employeeTextColor d-none d-lg-block h5\">Employee</div>\\r\\n                                <button type=\"submit\" class=\"btn btn-outline employeeBtnColor  fw-bold\"><i class=\"fa fa-sign-in fa-3\"\\r\\n                                        aria-hidden=\"true\"></i></button>\\r\\n                            </div>\\r\\n                        </div>\\r\\n                    </a>\\r\\n                </form>\\r\\n            </div>\\r\\n        </div>\\r\\n        <div class=\"col\">\\r\\n            <div class=\"card card-body cardParent  shadow\">\\r\\n                <form class=\"text-center\" id=\"parentForm\" action=\"/vtop/prelogin/setup\" method=\"post\"><input type=\"hidden\" name=\"_csrf\" value=\"45577741-42d7-4cb4-97a9-e7c91649f8e7\"/>\\r\\n                    <input type=\"hidden\" name=\"flag\" value=\"parent\" />\\r\\n                    <a href=\"javascript:void(0);\" class=\"text-decoration-none\"\\r\\n                        onclick=\"javascript:submitForm(\\'parentForm\\')\">\\r\\n                        <div class=\"d-flex jusitfy-content-start align-items-stretch\">\\r\\n                            <div class=\"w-50\">\\r\\n                                <img src=\"/vtop/assets/img/parent.png\" class=\"img-responsive center imgSize\"\\r\\n                                    alt=\"...\" />\\r\\n                            </div>\\r\\n                            <div class=\"flex-grow-1\">\\r\\n                                <div class=\"fw-bold greenText d-block d-lg-none h6\">Parent</div>\\r\\n                                <div class=\"fw-bold greenText d-none d-lg-block h5\">Parent</div>\\r\\n                                <button type=\"submit\" class=\"btn btn-success  fw-bold\"><i class=\"fa fa-sign-in fa-3\"\\r\\n                                        aria-hidden=\"true\"></i></button>\\r\\n                            </div>\\r\\n                        </div>\\r\\n                    </a>\\r\\n\\r\\n                </form>\\r\\n            </div>\\r\\n        </div>\\r\\n        <div class=\"col\">\\r\\n            <div class=\"card card-body  cardAlumni shadow\">\\r\\n                <form class=\"text-center\" id=\"alumniForm\" action=\"/vtop/prelogin/setup\" method=\"post\"><input type=\"hidden\" name=\"_csrf\" value=\"45577741-42d7-4cb4-97a9-e7c91649f8e7\"/>\\r\\n                    <input type=\"hidden\" name=\"flag\" value=\"alumni\" />\\r\\n                    <a href=\"javascript:void(0);\" class=\"text-decoration-none\"\\r\\n                        onclick=\"javascript:submitForm(\\'alumniForm\\')\">\\r\\n                        <div class=\"d-flex jusitfy-content-start align-items-stretch\">\\r\\n                            <div class=\"w-50\">\\r\\n                                <img src=\"/vtop/assets/img/alumni.png\" class=\"img-responsive center imgSize\"\\r\\n                                    alt=\"...\" />\\r\\n                            </div>\\r\\n                            <div class=\"flex-grow-1\">\\r\\n                                <div class=\"fw-bold text-info d-block d-lg-none h6\">Alumni</div>\\r\\n                                <div class=\"fw-bold text-info d-none d-lg-block h5\">Alumni</div>\\r\\n                                <button type=\"submit\" class=\"btn btn-info fw-bold\"><i class=\"fa fa-sign-in fa-3\"\\r\\n                                        aria-hidden=\"true\"></i></button>\\r\\n                            </div>\\r\\n                        </div>\\r\\n                    </a>\\r\\n                </form>\\r\\n            </div>\\r\\n        </div>\\r\\n\\r\\n    \\r\\n                    </div>\\r\\n\\r\\n                    <div class=\"row\">\\r\\n                        <div class=\"col-12 col-md-6  order-2 order-md-1 mt-sm-1 \">\\r\\n                            <div class=\"card border-0 shadow-lg\">\\r\\n                                <div class=\"card-header d-flex justify-content-between spotlightHeader  \">\\r\\n                                    <span class=\"text-start fw-bold hightlight1 h6\"> VIT Bhopal University, India </span>\\r\\n                                </div>\\r\\n                                <div class=\"card-body\">\\r\\n                                    \\r\\n        <!-- <ul class=\"list-group list-group-flush text-start fw-bold h6\">\\r\\n            <li class=\"list-group-item bg-transparent py-2\">\\r\\n                <div class=\"d-flex text-dark\">\\r\\n                    <div class=\"goldIcons px-3 align-self-center\">\\r\\n                        <i class=\"bi bi-shield-shaded h5 align-middle\" aria-hidden=\"true\"></i>\\r\\n                    </div>\\r\\n                    <div class=\"flex-grow-1\">\\r\\n                        <strong class=\"small \">Ranked among the top 601-700 Universities of the world and one among the\\r\\n                            top 3 Institutions in India (Shanghai ARWU Ranking 2022)</strong>\\r\\n                    </div>\\r\\n                </div>\\r\\n            </li>\\r\\n            <li class=\"list-group-item bg-transparent py-2\">\\r\\n                <div class=\"d-flex text-dark\">\\r\\n                    <div class=\"goldIcons px-3 align-self-center\">\\r\\n                        <i class=\"bi bi-shield-shaded h5 align-middle\" aria-hidden=\"true\"></i>\\r\\n                    </div>\\r\\n                    <div class=\"flex-grow-1\">\\r\\n                        <span class=\"small\">The 9<sup>th</sup> best University, the 10<sup>th</sup> best research institution and the 12<sup>th</sup>\\r\\n                            best engineering institution in India (NIRF Ranking, Govt. of India 2022)</span>\\r\\n                    </div>\\r\\n                </div>\\r\\n            </li>\\r\\n            <li class=\"list-group-item bg-transparent py-2\">\\r\\n                <div class=\"d-flex text-dark\">\\r\\n                    <div class=\"goldIcons px-3 align-self-center\">\\r\\n                        <i class=\"bi bi-shield-shaded h5 align-middle\" aria-hidden=\"true\"></i>\\r\\n                    </div>\\r\\n                    <div class=\"flex-grow-1\">\\r\\n                        <span class=\"small\">Engineering and Technology subject areas of VIT are the 346<sup>th</sup> best in the\\r\\n                            World and the 9<sup>th</sup> best in India as per QS World University Rankings by Subject 2022</span>\\r\\n                    </div>\\r\\n                </div>\\r\\n            </li>\\r\\n            <li class=\"list-group-item bg-transparent py-2\">\\r\\n                <div class=\"d-flex text-dark\">\\r\\n                    <div class=\"goldIcons px-3 align-self-center\">\\r\\n                        <i class=\"bi bi-shield-shaded h5 align-middle\" aria-hidden=\"true\"></i>\\r\\n                    </div>\\r\\n                    <div class=\"flex-grow-1\">\\r\\n                        <span class=\"small\">NAAC Accreditation with A++ grade in the 4<sup>th</sup> cycle</span>\\r\\n                    </div>\\r\\n                </div>\\r\\n            </li>\\r\\n            <li class=\"list-group-item bg-transparent py-2\">\\r\\n                <div class=\"d-flex text-dark\">\\r\\n                    <div class=\"goldIcons px-3 align-self-center\">\\r\\n                        <i class=\"bi bi-shield-shaded h5 align-middle\" aria-hidden=\"true\"></i>\\r\\n                    </div>\\r\\n                    <div class=\"flex-grow-1\">\\r\\n                        <span class=\"small\">Ranked within the top 200 Universities in Asia (QS - Asia University\\r\\n                            Rankings 2022)</span>\\r\\n                    </div>\\r\\n                </div>\\r\\n            </li>\\r\\n        </ul> -->\\r\\n\\r\\n\\r\\n    \\r\\n                                </div>\\r\\n                            </div>\\r\\n                        </div>\\r\\n                        <div class=\"col-12 col-md-6 order-1 order-md-2 mt-sm-1 mb-3 \">\\r\\n                            \\r\\n\\r\\n                        </div>\\r\\n                    </div>\\r\\n\\r\\n                </div>\\r\\n            </div>\\r\\n\\r\\n        </div>\\r\\n    </div>\\r\\n\\r\\n    <div class=\"offcanvas offcanvas-end\" tabindex=\"-1\" id=\"spotlightCanvas\" aria-labelledby=\"spotlightCanvasLabel\">\\r\\n        <div class=\"offcanvas-header\">\\r\\n            <h5 class=\"offcanvas-title fw-bold primaryColor1\" id=\"spotlightCanvasLabel\">SPOTLIGHT</h5>\\r\\n            <button type=\"button\" class=\"btn-close text-reset\" data-bs-dismiss=\"offcanvas\" aria-label=\"Close\"></button>\\r\\n        </div>\\r\\n        <div class=\"offcanvas-body spotlightTextSize\">\\r\\n            \\r\\n\\r\\n        <ul class=\"list-group list-group-flush text-start spotlight-background\">\\r\\n            \\r\\n        </ul>\\r\\n\\r\\n    \\r\\n        </div>\\r\\n    </div>\\r\\n\\r\\n    \\r\\n        <form id=\"sessionExpireCheckForm\" action=\"/vtop/session/expired/out\">\\r\\n\\r\\n        </form>\\r\\n        <div class=\"fixed-bottom text-center text-light py-0 footercolor\">\\r\\n            <span class=\"small\">Copyright © <span class=\"trim d-none d-sm-inline-block\">2024</span>\\r\\n                Software Development Cell, VIT, Bhopal-466 114.</span>\\r\\n        </div>\\r\\n\\r\\n        <div class=\"modal\" tabindex=\"-1\" id=\"sessionTimedOut\">\\r\\n            <div class=\"modal-dialog modal-dialog-centered modal-sm\">\\r\\n              <div class=\"modal-content\">\\r\\n                <div class=\"modal-header\">\\r\\n                  <h4 class=\"modal-title text-primary\" >Sorry !!!</h4>\\r\\n                  <button type=\"button\" class=\"btn-close\" data-bs-dismiss=\"modal\" aria-label=\"Close\"></button>\\r\\n                </div>\\r\\n                <div class=\"modal-body\">\\r\\n                    <h3 class=\"text-danger\"> Session Timed Out</h3>\\r\\n                </div>\\r\\n                <div class=\"modal-footer\">\\r\\n                  <button type=\"button\" class=\"btn btn-outline-danger\" data-bs-dismiss=\"modal\">Close</button>\\r\\n                </div>\\r\\n              </div>\\r\\n            </div>\\r\\n          </div>\\r\\n\\r\\n        <script type=\"text/javascript\" src=\"/vtop/get/jq/js/1\"></script>\\r\\n        <script type=\"text/javascript\" src=\"/vtop/get/jq/js/3\"></script>\\r\\n        <script type=\"text/javascript\" src=\"/vtop/get/bs/js/3\"></script>\\r\\n        <script type=\"text/javascript\" src=\"/vtop/get/jq/js/4\"></script>\\r\\n\\r\\n        <script>\\r\\n            /*<![CDATA[*/\\r\\n\\r\\n            var offsetHeight = document.getElementById(\\'vtopOpenPageHeader\\').offsetHeight;\\r\\n            document.body.style.marginTop = offsetHeight + \\'px\\';\\r\\n\\r\\n            function sessionExpiredCall() {\\r\\n                var form = document.getElementById(\"sessionExpireCheckForm\");\\r\\n                form.submit();\\r\\n            }\\r\\n\\r\\n            history.pushState(null, null, document.URL);\\r\\n            window.addEventListener(\\'popstate\\', function () {\\r\\n                history.pushState(null, null, document.URL);\\r\\n            });\\r\\n\\r\\n            /*]]>*/\\r\\n        </script>\\r\\n\\r\\n    \\r\\n    <script>\\r\\n\\r\\n\\r\\n        var isSessionExpired = document.getElementById(\"authorizedIDX\");\\r\\n        if (isSessionExpired != null || isSessionExpired != undefined) {\\r\\n            sessionExpiredCall();\\r\\n        }\\r\\n\\r\\n        function submitForm(formName) {\\r\\n            var form = document.getElementById(formName);\\r\\n            form.submit();\\r\\n        }\\r\\n\\r\\n\\r\\n        function downLoadLink(urlText) {\\r\\n            var now = new Date();\\r\\n            var csrfName = /*_csrf*/\\'\\';\\r\\n            var csrfValue = /*45577741-42d7-4cb4-97a9-e7c91649f8e7*/\\'\\';\\r\\n            params = csrfName + \"=\" + csrfValue + \"&x=\" + now.toUTCString();\\r\\n            window.open(urlText + \\'?\\' + params);\\r\\n        };\\r\\n\\r\\n    </script>\\r\\n    \\r\\n\\r\\n\\r\\n</body>\\r\\n</html>'"
            ],
            "application/vnd.google.colaboratory.intrinsic+json": {
              "type": "string"
            }
          },
          "metadata": {},
          "execution_count": 31
        }
      ]
    }
  ]
}